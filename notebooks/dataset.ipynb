{
 "cells": [
  {
   "cell_type": "markdown",
   "metadata": {},
   "source": [
    "# Libraries"
   ]
  },
  {
   "cell_type": "code",
   "execution_count": null,
   "metadata": {},
   "outputs": [],
   "source": [
    "%load_ext autoreload\n",
    "%autoreload 2\n",
    "\n",
    "import numpy as np\n",
    "import pandas as pd\n",
    "from glob import glob\n",
    "from PIL import Image\n",
    "import os, json, cv2, torch, yaml\n",
    "from matplotlib import pyplot as plt\n",
    "from torch.utils.data import DataLoader\n",
    "import torchvision.transforms as transforms\n",
    "\n",
    "import sys\n",
    "sys.path.append(\"../\")\n",
    "os.environ['CUDA_VISIBLE_DEVICES'] = '-1'\n",
    "\n",
    "from lib.config import cfg\n",
    "import lib.dataset as dataset\n",
    "from lib.utils.draw import draw_heatmaps"
   ]
  },
  {
   "cell_type": "markdown",
   "metadata": {},
   "source": [
    "# Build datasets"
   ]
  },
  {
   "cell_type": "code",
   "execution_count": null,
   "metadata": {},
   "outputs": [],
   "source": [
    "# Load config file\n",
    "config_file = \"../experiments/coco/hrnet/debug39.yaml\"\n",
    "cfg.defrost()\n",
    "cfg.merge_from_file(config_file)\n",
    "cfg.freeze()\n",
    "\n",
    "# Transforms\n",
    "mean=[0.485, 0.456, 0.406]\n",
    "std=[0.229, 0.224, 0.225]\n",
    "normalize = transforms.Normalize(mean, std)\n",
    "\n",
    "# Build train_dataset\n",
    "train_dataset = eval('dataset.'+cfg.DATASET.DATASET)(\n",
    "    cfg, cfg.DATASET.ROOT, cfg.DATASET.TRAIN_SET, True,\n",
    "    transforms.Compose([\n",
    "        transforms.ToTensor(),\n",
    "        normalize,\n",
    "    ])\n",
    ")\n",
    "\n",
    "# Build valid_dataset\n",
    "valid_dataset = eval('dataset.'+cfg.DATASET.DATASET)(\n",
    "    cfg, cfg.DATASET.ROOT, cfg.DATASET.TEST_SET, False,\n",
    "    transforms.Compose([\n",
    "        transforms.ToTensor(),\n",
    "        normalize,\n",
    "    ])\n",
    ")"
   ]
  },
  {
   "cell_type": "code",
   "execution_count": null,
   "metadata": {},
   "outputs": [],
   "source": [
    "print(\"train_dataset:\", len(train_dataset))\n",
    "print(\"valid_dataset:\", len(valid_dataset))"
   ]
  },
  {
   "cell_type": "markdown",
   "metadata": {},
   "source": [
    "# Visualize train_dataset"
   ]
  },
  {
   "cell_type": "code",
   "execution_count": null,
   "metadata": {},
   "outputs": [],
   "source": [
    "# Get random_idx\n",
    "random_idx = np.random.randint(0, len(train_dataset))\n",
    "print(\"random_idx\", random_idx)\n",
    "\n",
    "# Get data\n",
    "data = train_dataset.__getitem__(random_idx)\n",
    "input, target, target_weight, meta = data\n",
    "print(\"input\", input.shape)\n",
    "print(\"target\", target.shape)\n",
    "print(\"target_weight\", target_weight.shape)\n",
    "print(target_weight.numpy()[:,0])\n",
    "print(meta.keys())\n",
    "\n",
    "# Get image\n",
    "m = np.array(mean)\n",
    "s = np.array(std)\n",
    "image = input.numpy().transpose((1,2,0))\n",
    "image = (255*(image*s[None,None,:]+m[None,None,:])).astype('uint8')\n",
    "\n",
    "# Get heatmaps\n",
    "heatmaps = target.numpy().transpose((1,2,0)).astype('uint8')\n",
    "\n",
    "# Visualize\n",
    "drawn_image = draw_heatmaps(image, heatmaps)\n",
    "plt.figure(figsize=(16,8))\n",
    "plt.subplot(1,2,1); plt.imshow(image); plt.title(\"image\")\n",
    "plt.subplot(1,2,2); plt.imshow(drawn_image); plt.title(\"drawn_image\")\n",
    "plt.show()"
   ]
  },
  {
   "cell_type": "markdown",
   "metadata": {},
   "source": [
    "# Visualize valid_dataset"
   ]
  },
  {
   "cell_type": "code",
   "execution_count": null,
   "metadata": {},
   "outputs": [],
   "source": [
    "# Get random_idx\n",
    "random_idx = np.random.randint(0, len(valid_dataset))\n",
    "print(\"random_idx\", random_idx)\n",
    "\n",
    "# Get data\n",
    "data = valid_dataset.__getitem__(random_idx)\n",
    "input, target, target_weight, meta = data\n",
    "print(\"input\", input.shape)\n",
    "print(\"target\", target.shape)\n",
    "print(\"target_weight\", target_weight.shape)\n",
    "print(target_weight.numpy()[:,0])\n",
    "print(meta.keys())\n",
    "\n",
    "# Get image\n",
    "m = np.array(mean)\n",
    "s = np.array(std)\n",
    "image = input.numpy().transpose((1,2,0))\n",
    "image = (255*(image*s[None,None,:]+m[None,None,:])).astype('uint8')\n",
    "\n",
    "# Get heatmaps\n",
    "heatmaps = target.numpy().transpose((1,2,0)).astype('uint8')\n",
    "\n",
    "# Visualize\n",
    "drawn_image = draw_heatmaps(image, heatmaps)\n",
    "plt.figure(figsize=(16,8))\n",
    "plt.subplot(1,2,1); plt.imshow(image); plt.title(\"image\")\n",
    "plt.subplot(1,2,2); plt.imshow(drawn_image); plt.title(\"drawn_image\")\n",
    "plt.show()"
   ]
  }
 ],
 "metadata": {
  "kernelspec": {
   "display_name": "posehrnet",
   "language": "python",
   "name": "posehrnet"
  },
  "language_info": {
   "codemirror_mode": {
    "name": "ipython",
    "version": 3
   },
   "file_extension": ".py",
   "mimetype": "text/x-python",
   "name": "python",
   "nbconvert_exporter": "python",
   "pygments_lexer": "ipython3",
   "version": "3.6.8"
  }
 },
 "nbformat": 4,
 "nbformat_minor": 4
}
