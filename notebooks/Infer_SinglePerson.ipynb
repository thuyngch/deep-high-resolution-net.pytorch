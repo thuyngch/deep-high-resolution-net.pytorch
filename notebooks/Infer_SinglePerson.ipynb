{
 "cells": [
  {
   "cell_type": "markdown",
   "metadata": {},
   "source": [
    "# Libraries"
   ]
  },
  {
   "cell_type": "code",
   "execution_count": null,
   "metadata": {},
   "outputs": [],
   "source": [
    "%load_ext autoreload\n",
    "%autoreload 2\n",
    "\n",
    "import numpy as np\n",
    "import pandas as pd\n",
    "from glob import glob\n",
    "from PIL import Image\n",
    "import os, json, cv2, torch, yaml\n",
    "from matplotlib import pyplot as plt\n",
    "from torch.utils.data import DataLoader\n",
    "import torchvision.transforms as transforms\n",
    "\n",
    "import sys\n",
    "sys.path.append(\"../\")\n",
    "os.environ['CUDA_VISIBLE_DEVICES'] = '0'\n",
    "\n",
    "from lib.config import cfg\n",
    "import lib.models as models\n",
    "import lib.dataset as dataset\n",
    "from lib.utils.draw import draw_heatmaps"
   ]
  },
  {
   "cell_type": "markdown",
   "metadata": {},
   "source": [
    "# Build"
   ]
  },
  {
   "cell_type": "code",
   "execution_count": null,
   "metadata": {},
   "outputs": [],
   "source": [
    "# Load config file\n",
    "\n",
    "config_file = \"../experiments/coco/hrnet/multi_person_39.yaml\"\n",
    "cfg.defrost()\n",
    "cfg.merge_from_file(config_file)\n",
    "cfg.freeze()"
   ]
  },
  {
   "cell_type": "code",
   "execution_count": null,
   "metadata": {},
   "outputs": [],
   "source": [
    "# Model\n",
    "\n",
    "model = eval('models.'+cfg.MODEL.NAME+'.get_pose_net')(cfg, is_train=False)\n",
    "\n",
    "if cfg.TEST.MODEL_FILE:\n",
    "    print('=> loading model from {}'.format(cfg.TEST.MODEL_FILE))\n",
    "    model.load_state_dict(torch.load(cfg.TEST.MODEL_FILE), strict=False)\n",
    "else:\n",
    "    model_state_file = os.path.join(final_output_dir, 'final_state.pth')\n",
    "    print('=> loading model from {}'.format(model_state_file))\n",
    "    model.load_state_dict(torch.load(model_state_file))\n",
    "    \n",
    "model.eval();\n",
    "model.cuda();"
   ]
  },
  {
   "cell_type": "code",
   "execution_count": null,
   "metadata": {},
   "outputs": [],
   "source": [
    "# Dataset\n",
    "\n",
    "mean=[0.485, 0.456, 0.406]\n",
    "std=[0.229, 0.224, 0.225]\n",
    "m = np.array(mean)\n",
    "s = np.array(std)\n",
    "normalize = transforms.Normalize(mean, std)\n",
    "\n",
    "valid_dataset = eval('dataset.'+cfg.DATASET.DATASET)(\n",
    "    cfg, cfg.DATASET.ROOT, cfg.DATASET.TEST_SET, False, cfg.DATASET.MULTI_PERSON,\n",
    "    transforms.Compose([\n",
    "        transforms.ToTensor(),\n",
    "        normalize,\n",
    "    ])\n",
    ")"
   ]
  },
  {
   "cell_type": "markdown",
   "metadata": {},
   "source": [
    "# Inference"
   ]
  },
  {
   "cell_type": "code",
   "execution_count": null,
   "metadata": {},
   "outputs": [],
   "source": [
    "# Get an item\n",
    "random_idx = np.random.randint(0, len(valid_dataset))\n",
    "print(\"random_idx\", random_idx)\n",
    "data = valid_dataset.__getitem__(random_idx)\n",
    "input, target, target_weight, meta = data\n",
    "\n",
    "# Get image\n",
    "image = input.numpy().transpose((1,2,0))\n",
    "image = (255*(image*s[None,None,:]+m[None,None,:])).astype('uint8')\n",
    "H, W = image.shape[:2]\n",
    "\n",
    "# Model inference\n",
    "with torch.no_grad():\n",
    "    inputs = input.unsqueeze(0).cuda()\n",
    "    outputs = model(inputs)\n",
    "    heatmaps = outputs[0].cpu().numpy()\n",
    "\n",
    "# Visualize output\n",
    "drawn_image = draw_heatmaps(image, heatmaps.astype('uint8'))\n",
    "plt.figure(figsize=(30,15))\n",
    "plt.subplot(1,2,1); plt.imshow(image); plt.title(\"image\"); plt.axis('off')\n",
    "plt.subplot(1,2,2); plt.imshow(drawn_image); plt.title(\"drawn_image\"); plt.axis('off')\n",
    "plt.show()"
   ]
  },
  {
   "cell_type": "code",
   "execution_count": null,
   "metadata": {},
   "outputs": [],
   "source": [
    "keypoints = [\n",
    "    \"nose\",\"left_eye\",\"right_eye\",\"left_ear\",\"right_ear\",\n",
    "    \"left_shoulder\",\"right_shoulder\",\"left_elbow\",\"right_elbow\",\n",
    "    \"left_wrist\",\"right_wrist\",\"left_hip\",\"right_hip\",\n",
    "    \"left_knee\",\"right_knee\",\"left_ankle\",\"right_ankle\",\n",
    "]\n",
    "\n",
    "base_w = 15\n",
    "base_h = 15\n",
    "plt.figure(figsize=(3*base_h, 5*base_w))\n",
    "\n",
    "plt.subplot(6,3,1); plt.imshow(image); plt.title(\"image\"); plt.axis('off')\n",
    "for i, heatmap in enumerate(heatmaps):\n",
    "    heatmap = cv2.resize(heatmap, (W,H), interpolation=cv2.INTER_LINEAR)\n",
    "    plt.subplot(6,3,i+2); plt.imshow(image); plt.imshow(heatmap, alpha=0.75, vmin=0.0, vmax=1.0, cmap='jet'); plt.title(keypoints[i]); plt.axis('off')\n",
    "plt.show()"
   ]
  },
  {
   "cell_type": "code",
   "execution_count": null,
   "metadata": {},
   "outputs": [],
   "source": []
  }
 ],
 "metadata": {
  "kernelspec": {
   "display_name": "posehrnet",
   "language": "python",
   "name": "posehrnet"
  },
  "language_info": {
   "codemirror_mode": {
    "name": "ipython",
    "version": 3
   },
   "file_extension": ".py",
   "mimetype": "text/x-python",
   "name": "python",
   "nbconvert_exporter": "python",
   "pygments_lexer": "ipython3",
   "version": "3.6.8"
  }
 },
 "nbformat": 4,
 "nbformat_minor": 4
}
